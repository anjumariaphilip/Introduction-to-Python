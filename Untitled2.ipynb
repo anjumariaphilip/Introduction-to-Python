{
  "nbformat": 4,
  "nbformat_minor": 0,
  "metadata": {
    "colab": {
      "provenance": []
    },
    "kernelspec": {
      "name": "python3",
      "display_name": "Python 3"
    },
    "language_info": {
      "name": "python"
    }
  },
  "cells": [
    {
      "cell_type": "code",
      "execution_count": 1,
      "metadata": {
        "colab": {
          "base_uri": "https://localhost:8080/"
        },
        "id": "aI85T8zyzkk8",
        "outputId": "12868eb6-3610-4f1e-fea1-75a024b69b66"
      },
      "outputs": [
        {
          "output_type": "stream",
          "name": "stdout",
          "text": [
            "\"anju\" maria philip\n"
          ]
        }
      ],
      "source": [
        "print(\"\\\"anju\\\" maria philip\")"
      ]
    },
    {
      "cell_type": "code",
      "source": [
        "print(\"he\\'s a doctor\")"
      ],
      "metadata": {
        "colab": {
          "base_uri": "https://localhost:8080/"
        },
        "id": "ZzoNd0Qo0Se5",
        "outputId": "8f081a67-e734-4e6d-ce01-6b6f898f1295"
      },
      "execution_count": 3,
      "outputs": [
        {
          "output_type": "stream",
          "name": "stdout",
          "text": [
            "he's a doctor\n"
          ]
        }
      ]
    },
    {
      "cell_type": "code",
      "source": [
        "print(\"he \\n doctor\")"
      ],
      "metadata": {
        "colab": {
          "base_uri": "https://localhost:8080/"
        },
        "id": "0n3mvN4f1CH8",
        "outputId": "53f8b8b3-3ed3-43fa-8d9c-3696a9085b89"
      },
      "execution_count": 4,
      "outputs": [
        {
          "output_type": "stream",
          "name": "stdout",
          "text": [
            "he \n",
            " doctor\n"
          ]
        }
      ]
    },
    {
      "cell_type": "code",
      "source": [
        "print(\"anju\\n maria philip\")"
      ],
      "metadata": {
        "colab": {
          "base_uri": "https://localhost:8080/"
        },
        "id": "grsgQZ3K1TE1",
        "outputId": "44d13841-2820-4333-f590-cdac9e2047f3"
      },
      "execution_count": 5,
      "outputs": [
        {
          "output_type": "stream",
          "name": "stdout",
          "text": [
            "anju\n",
            " maria philip\n"
          ]
        }
      ]
    },
    {
      "cell_type": "code",
      "source": [
        "x=[\"john\",\"mary\",\"david\",\"adam\"]\n",
        "x.insert(2,\"james\")\n",
        "print(x)"
      ],
      "metadata": {
        "colab": {
          "base_uri": "https://localhost:8080/"
        },
        "id": "hruk61Ks1xWq",
        "outputId": "4b3f5d11-eb82-48f0-919f-29800cfdad7d"
      },
      "execution_count": 8,
      "outputs": [
        {
          "output_type": "stream",
          "name": "stdout",
          "text": [
            "['john', 'mary', 'james', 'david', 'adam']\n"
          ]
        }
      ]
    },
    {
      "cell_type": "code",
      "source": [
        "z=int(input(\"enter the index\"))\n",
        "y=input(\"enter the name\")\n",
        "x.insert(z,y)\n",
        "print(x)\n",
        "\n"
      ],
      "metadata": {
        "colab": {
          "base_uri": "https://localhost:8080/"
        },
        "id": "qWS53XKG3Cve",
        "outputId": "67375e8d-2792-4a64-809c-8beddff14c5a"
      },
      "execution_count": 11,
      "outputs": [
        {
          "output_type": "stream",
          "name": "stdout",
          "text": [
            "enter the index4\n",
            "enter the namemicah\n",
            "['john', 'mary', 'james', 'david', 'micah', 'adam']\n"
          ]
        }
      ]
    },
    {
      "cell_type": "code",
      "source": [
        "def micah():  \n",
        "  \n",
        "\n",
        "  x=[\"A\",\"B\",\"C\",\"D\"]\n",
        "  y=int(input(\"enter the index\"))\n",
        "  z=input(\"enter the name\")\n",
        "  x.insert(y,z)\n",
        "  print(x)"
      ],
      "metadata": {
        "id": "HRWkbOxS4rqI"
      },
      "execution_count": 30,
      "outputs": []
    },
    {
      "cell_type": "code",
      "source": [
        "micah()"
      ],
      "metadata": {
        "colab": {
          "base_uri": "https://localhost:8080/"
        },
        "id": "XJPt9gZm95Yw",
        "outputId": "9ffa3e3e-2f4d-4790-cf50-21c29061a5bb"
      },
      "execution_count": 31,
      "outputs": [
        {
          "output_type": "stream",
          "name": "stdout",
          "text": [
            "enter the index65\n",
            "enter the name89\n",
            "['A', 'B', 'C', 'D', '89']\n"
          ]
        }
      ]
    },
    {
      "cell_type": "code",
      "source": [
        "micah()"
      ],
      "metadata": {
        "colab": {
          "base_uri": "https://localhost:8080/"
        },
        "id": "bSEGVivL-LI4",
        "outputId": "370bf19e-bc8c-42d6-d8cb-2f64081812aa"
      },
      "execution_count": 20,
      "outputs": [
        {
          "output_type": "stream",
          "name": "stdout",
          "text": [
            "enter the index5\n",
            "enter the nameanju\n",
            "['A', 'B', 'C', 'D', 'anju']\n"
          ]
        }
      ]
    },
    {
      "cell_type": "code",
      "source": [
        "def micah():\n",
        "  x=int(input(\"entder the number\"))\n",
        "  y=int(input(\"enter the number\"))\n",
        "  print(x+y)\n",
        "  print(x-y)\n",
        "  print(x*y)\n",
        "  print(x/y)\n",
        " "
      ],
      "metadata": {
        "id": "kcElH3dr-gTB"
      },
      "execution_count": 27,
      "outputs": []
    },
    {
      "cell_type": "code",
      "source": [
        "micah()"
      ],
      "metadata": {
        "colab": {
          "base_uri": "https://localhost:8080/"
        },
        "id": "ItryGng-_kng",
        "outputId": "6959586f-6a7d-42c0-ed0e-d940256eb81e"
      },
      "execution_count": 28,
      "outputs": [
        {
          "output_type": "stream",
          "name": "stdout",
          "text": [
            "entder the number10\n",
            "enter the number5\n",
            "15\n",
            "5\n",
            "50\n",
            "2.0\n"
          ]
        }
      ]
    },
    {
      "cell_type": "code",
      "source": [
        "def micah(a,b):\n",
        "  print(a+b)\n",
        "  print(a-b)\n",
        "  print(a*b)\n",
        "  print(a/b)"
      ],
      "metadata": {
        "id": "VoCf6F_9Ajzc"
      },
      "execution_count": 35,
      "outputs": []
    },
    {
      "cell_type": "code",
      "source": [
        "x=int(input(\"enter the number\"))\n",
        "y=int(input(\"enter the number\"))\n",
        "micah(x,y)"
      ],
      "metadata": {
        "colab": {
          "base_uri": "https://localhost:8080/"
        },
        "id": "661yIq_VEyBC",
        "outputId": "53025318-357e-4fad-d0d0-0581c95dedfb"
      },
      "execution_count": 36,
      "outputs": [
        {
          "output_type": "stream",
          "name": "stdout",
          "text": [
            "enter the number56\n",
            "enter the number89\n",
            "145\n",
            "-33\n",
            "4984\n",
            "0.6292134831460674\n"
          ]
        }
      ]
    },
    {
      "cell_type": "code",
      "source": [],
      "metadata": {
        "id": "HBBiJcf4Fcja"
      },
      "execution_count": null,
      "outputs": []
    }
  ]
}