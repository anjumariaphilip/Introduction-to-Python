{
  "nbformat": 4,
  "nbformat_minor": 0,
  "metadata": {
    "colab": {
      "provenance": []
    },
    "kernelspec": {
      "name": "python3",
      "display_name": "Python 3"
    },
    "language_info": {
      "name": "python"
    }
  },
  "cells": [
    {
      "cell_type": "code",
      "execution_count": 2,
      "metadata": {
        "colab": {
          "base_uri": "https://localhost:8080/"
        },
        "id": "JH_OQAt8vZSD",
        "outputId": "399d3e71-1d91-44f5-8570-dbac6b4d03d8"
      },
      "outputs": [
        {
          "output_type": "stream",
          "name": "stdout",
          "text": [
            "['micah', 'mary', 'anju', 'adam']\n",
            "<class 'list'>\n"
          ]
        }
      ],
      "source": [
        "x=[\"micah\",\"mary\",\"anju\",\"adam\"]\n",
        "print(x)\n",
        "print(type(x))"
      ]
    },
    {
      "cell_type": "code",
      "source": [
        "x=[\"anju maria\",19,1234,\"kottayam\"]\n",
        "print(x)\n",
        "print(type(x))"
      ],
      "metadata": {
        "colab": {
          "base_uri": "https://localhost:8080/"
        },
        "id": "T62JybCywGGO",
        "outputId": "1d0ced8c-828e-4c35-8d07-3b9f1fcf39b4"
      },
      "execution_count": 8,
      "outputs": [
        {
          "output_type": "stream",
          "name": "stdout",
          "text": [
            "['anju maria', 19, 1234, 'kottayam']\n",
            "<class 'list'>\n"
          ]
        }
      ]
    },
    {
      "cell_type": "code",
      "source": [
        "print(x[0])"
      ],
      "metadata": {
        "colab": {
          "base_uri": "https://localhost:8080/"
        },
        "id": "NB3sYV0Qw7yM",
        "outputId": "de6883ea-5c77-45c6-913e-699e18c7743e"
      },
      "execution_count": 9,
      "outputs": [
        {
          "output_type": "stream",
          "name": "stdout",
          "text": [
            "anju maria\n"
          ]
        }
      ]
    },
    {
      "cell_type": "code",
      "source": [
        "print(x[-1])"
      ],
      "metadata": {
        "colab": {
          "base_uri": "https://localhost:8080/"
        },
        "id": "qteS0TUlxblt",
        "outputId": "367fee23-d4fd-40d5-e594-67353a7052d2"
      },
      "execution_count": 10,
      "outputs": [
        {
          "output_type": "stream",
          "name": "stdout",
          "text": [
            "kottayam\n"
          ]
        }
      ]
    },
    {
      "cell_type": "code",
      "source": [
        "print(x[-2])"
      ],
      "metadata": {
        "colab": {
          "base_uri": "https://localhost:8080/"
        },
        "id": "aPUcHAtmxiOs",
        "outputId": "91a32ea6-c98d-49bc-e0d3-0ce0a803a6e7"
      },
      "execution_count": 11,
      "outputs": [
        {
          "output_type": "stream",
          "name": "stdout",
          "text": [
            "1234\n"
          ]
        }
      ]
    },
    {
      "cell_type": "code",
      "source": [
        "x=[1,5,8,9,6,4,7,2,3,4,0]\n",
        "print(x)"
      ],
      "metadata": {
        "colab": {
          "base_uri": "https://localhost:8080/"
        },
        "id": "KuWfAhR-xs_s",
        "outputId": "44534a15-28d5-4b63-d6b9-1a937c287f2d"
      },
      "execution_count": 13,
      "outputs": [
        {
          "output_type": "stream",
          "name": "stdout",
          "text": [
            "[1, 5, 8, 9, 6, 4, 7, 2, 3, 4, 0]\n"
          ]
        }
      ]
    },
    {
      "cell_type": "code",
      "source": [
        "print(x[0])"
      ],
      "metadata": {
        "colab": {
          "base_uri": "https://localhost:8080/"
        },
        "id": "jKQpMm0wyYEP",
        "outputId": "d806c95b-ae33-40f7-99da-1b4abdfaaf15"
      },
      "execution_count": 14,
      "outputs": [
        {
          "output_type": "stream",
          "name": "stdout",
          "text": [
            "1\n"
          ]
        }
      ]
    },
    {
      "cell_type": "code",
      "source": [
        "print(x[0:5])"
      ],
      "metadata": {
        "colab": {
          "base_uri": "https://localhost:8080/"
        },
        "id": "Qv30enVKyesn",
        "outputId": "85fb6f04-fe6f-4a79-bb5c-6b7e52006537"
      },
      "execution_count": 15,
      "outputs": [
        {
          "output_type": "stream",
          "name": "stdout",
          "text": [
            "[1, 5, 8, 9, 6]\n"
          ]
        }
      ]
    },
    {
      "cell_type": "code",
      "source": [
        "print(x[-4:])"
      ],
      "metadata": {
        "colab": {
          "base_uri": "https://localhost:8080/"
        },
        "id": "L_lYTmBbyjC1",
        "outputId": "7ffbafdb-529f-46b7-eb01-0a5c9c693e46"
      },
      "execution_count": 21,
      "outputs": [
        {
          "output_type": "stream",
          "name": "stdout",
          "text": [
            "[2, 3, 4, 0]\n"
          ]
        }
      ]
    },
    {
      "cell_type": "code",
      "source": [
        "x=[1,5,8,9,6,4,7,2,3,4,0]\n",
        "x[0]=4\n",
        "print(x)"
      ],
      "metadata": {
        "colab": {
          "base_uri": "https://localhost:8080/"
        },
        "id": "YTKbaF580jEF",
        "outputId": "2e8af25b-8aec-4339-9e7e-4e7d6fc21dde"
      },
      "execution_count": 23,
      "outputs": [
        {
          "output_type": "stream",
          "name": "stdout",
          "text": [
            "[4, 5, 8, 9, 6, 4, 7, 2, 3, 4, 0]\n"
          ]
        }
      ]
    },
    {
      "cell_type": "code",
      "source": [
        "x=[\"anju maria\",19,1234,\"kottayam\"]\n",
        "x[0]=\"rajagiri\"\n",
        "print(x)"
      ],
      "metadata": {
        "colab": {
          "base_uri": "https://localhost:8080/"
        },
        "id": "2aNMCfwu1Ylk",
        "outputId": "d2794f7d-5226-4e5b-c5bf-73b917d09fca"
      },
      "execution_count": 26,
      "outputs": [
        {
          "output_type": "stream",
          "name": "stdout",
          "text": [
            "['rajagiri', 19, 1234, 'kottayam']\n"
          ]
        }
      ]
    },
    {
      "cell_type": "code",
      "source": [
        "x=[3,6,9,12]\n",
        "x.append(69)\n",
        "print(x)"
      ],
      "metadata": {
        "colab": {
          "base_uri": "https://localhost:8080/"
        },
        "id": "qm3pLsbS3WqG",
        "outputId": "d0fba4a7-2d7e-4502-9e5b-84b11bbcd39a"
      },
      "execution_count": 29,
      "outputs": [
        {
          "output_type": "stream",
          "name": "stdout",
          "text": [
            "[3, 6, 9, 12, 69]\n"
          ]
        }
      ]
    },
    {
      "cell_type": "code",
      "source": [
        "x=[]\n",
        "y=1\n",
        "while(y<=4):\n",
        "  name=input(\"enter your name\")\n",
        "  x.append(name)\n",
        "  y=y+1\n",
        " "
      ],
      "metadata": {
        "colab": {
          "base_uri": "https://localhost:8080/"
        },
        "id": "a_OiTuWG36q7",
        "outputId": "60f7e676-b2f3-4ff2-8dbd-997722ee5d31"
      },
      "execution_count": 30,
      "outputs": [
        {
          "name": "stdout",
          "output_type": "stream",
          "text": [
            "enter your namemicah\n",
            "enter your nameanju\n",
            "enter your namemaria\n",
            "enter your namephilip\n"
          ]
        }
      ]
    },
    {
      "cell_type": "code",
      "source": [
        "print(x)"
      ],
      "metadata": {
        "colab": {
          "base_uri": "https://localhost:8080/"
        },
        "id": "-iVeE6D-5lw9",
        "outputId": "ca89ae33-56c5-43ab-d4c5-4dbd4991f0f5"
      },
      "execution_count": 33,
      "outputs": [
        {
          "output_type": "stream",
          "name": "stdout",
          "text": [
            "['micah', 'anju', 'maria', 'philip']\n"
          ]
        }
      ]
    },
    {
      "cell_type": "code",
      "source": [
        "x=[\"anju\",1,56,78,90,\"micah\"]\n",
        "y=x.copy()\n",
        "print(y)"
      ],
      "metadata": {
        "colab": {
          "base_uri": "https://localhost:8080/"
        },
        "id": "GX5yObPA8uqm",
        "outputId": "b8a854c0-5899-452b-e6fc-cc0086fcc9c9"
      },
      "execution_count": 34,
      "outputs": [
        {
          "output_type": "stream",
          "name": "stdout",
          "text": [
            "['anju', 1, 56, 78, 90, 'micah']\n"
          ]
        }
      ]
    },
    {
      "cell_type": "code",
      "source": [
        "x=['micah', 'anju', 'maria', 'philip']\n",
        "y=[\"a\",\"b\",\"c\",\"d\"]\n",
        "x.extend(y)\n",
        "print(x)"
      ],
      "metadata": {
        "colab": {
          "base_uri": "https://localhost:8080/"
        },
        "id": "bPg7rwhg96V3",
        "outputId": "d70a1555-0c7f-4dfa-f057-e9bc9d5b01b5"
      },
      "execution_count": 35,
      "outputs": [
        {
          "output_type": "stream",
          "name": "stdout",
          "text": [
            "['micah', 'anju', 'maria', 'philip', 'a', 'b', 'c', 'd']\n"
          ]
        }
      ]
    },
    {
      "cell_type": "code",
      "source": [
        "print(y)"
      ],
      "metadata": {
        "colab": {
          "base_uri": "https://localhost:8080/"
        },
        "id": "L1Pr2Za3-YrY",
        "outputId": "f8fb35c8-0b4e-4e6e-be7f-49cd263005e2"
      },
      "execution_count": 36,
      "outputs": [
        {
          "output_type": "stream",
          "name": "stdout",
          "text": [
            "['a', 'b', 'c', 'd']\n"
          ]
        }
      ]
    },
    {
      "cell_type": "code",
      "source": [
        "x=['micah', 'anju', 'maria', 'philip']\n",
        "x.count(\"maria\")"
      ],
      "metadata": {
        "colab": {
          "base_uri": "https://localhost:8080/"
        },
        "id": "rXlzjw3K-aXn",
        "outputId": "d74306d6-36b0-4550-afd3-997171876701"
      },
      "execution_count": 38,
      "outputs": [
        {
          "output_type": "execute_result",
          "data": {
            "text/plain": [
              "1"
            ]
          },
          "metadata": {},
          "execution_count": 38
        }
      ]
    },
    {
      "cell_type": "code",
      "source": [
        "x=['micah', 'anju', 'maria', 'philip']\n",
        "x[1:3] =[\"ANJU\",\"freeda\"]\n",
        "print(x)"
      ],
      "metadata": {
        "colab": {
          "base_uri": "https://localhost:8080/"
        },
        "id": "p-6hfH6B_LWb",
        "outputId": "248bf486-1d40-4217-87b6-ba3a98d6cee3"
      },
      "execution_count": 40,
      "outputs": [
        {
          "output_type": "stream",
          "name": "stdout",
          "text": [
            "['micah', 'ANJU', 'freeda', 'philip']\n"
          ]
        }
      ]
    },
    {
      "cell_type": "markdown",
      "source": [],
      "metadata": {
        "id": "EWgALiPABpH7"
      }
    },
    {
      "cell_type": "code",
      "source": [
        "x=['micah', 'anju', 'maria', 'philip']\n",
        "x.insert(2,\"micah\")\n",
        "print(x)"
      ],
      "metadata": {
        "colab": {
          "base_uri": "https://localhost:8080/"
        },
        "id": "Nx69osV3BJTW",
        "outputId": "83430bae-7acf-4a5b-d6b2-4fc198d36563"
      },
      "execution_count": 42,
      "outputs": [
        {
          "output_type": "stream",
          "name": "stdout",
          "text": [
            "['micah', 'anju', 'micah', 'maria', 'philip']\n"
          ]
        }
      ]
    },
    {
      "cell_type": "code",
      "source": [
        "x=['micah', 'anju', 'maria', 'philip']\n",
        "x.remove(\"maria\")\n",
        "print(x)"
      ],
      "metadata": {
        "colab": {
          "base_uri": "https://localhost:8080/"
        },
        "id": "pINqG_a8BaXM",
        "outputId": "2c099315-16c6-459e-8411-5b3e8235b935"
      },
      "execution_count": 43,
      "outputs": [
        {
          "output_type": "stream",
          "name": "stdout",
          "text": [
            "['micah', 'anju', 'philip']\n"
          ]
        }
      ]
    },
    {
      "cell_type": "code",
      "source": [
        "from ast import Delete\n",
        "x=['micah', 'anju', 'maria', 'philip']\n",
        "del x[-1]\n",
        "print(x)"
      ],
      "metadata": {
        "colab": {
          "base_uri": "https://localhost:8080/"
        },
        "id": "BmRN3fIqCUIF",
        "outputId": "756adb94-26d3-4927-e457-5e5101dddf7c"
      },
      "execution_count": 49,
      "outputs": [
        {
          "output_type": "stream",
          "name": "stdout",
          "text": [
            "['micah', 'anju', 'maria']\n"
          ]
        }
      ]
    },
    {
      "cell_type": "code",
      "source": [
        "x=['micah', 'anju', 'maria', 'philip']\n",
        "del x[2:]\n",
        "print(x)"
      ],
      "metadata": {
        "colab": {
          "base_uri": "https://localhost:8080/"
        },
        "id": "Sw3N67MXCjTP",
        "outputId": "1b5fe75a-d29c-495d-da33-8cbb5d278707"
      },
      "execution_count": 50,
      "outputs": [
        {
          "output_type": "stream",
          "name": "stdout",
          "text": [
            "['micah', 'anju']\n"
          ]
        }
      ]
    }
  ]
}